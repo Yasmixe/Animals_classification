{
  "nbformat": 4,
  "nbformat_minor": 0,
  "metadata": {
    "colab": {
      "provenance": []
    },
    "kernelspec": {
      "name": "python3",
      "display_name": "Python 3"
    },
    "language_info": {
      "name": "python"
    },
    "accelerator": "GPU"
  },
  "cells": [
    {
      "cell_type": "code",
      "execution_count": 2,
      "metadata": {
        "id": "TFJ5f51lSfOh",
        "colab": {
          "base_uri": "https://localhost:8080/"
        },
        "outputId": "04101696-fc95-4de1-b0b6-709fff2f5126"
      },
      "outputs": [
        {
          "output_type": "stream",
          "name": "stdout",
          "text": [
            "Drive already mounted at /content/drive/; to attempt to forcibly remount, call drive.mount(\"/content/drive/\", force_remount=True).\n"
          ]
        }
      ],
      "source": [
        "from google.colab import drive \n",
        "drive.mount('/content/drive/')"
      ]
    },
    {
      "cell_type": "code",
      "source": [
        "import tensorflow as tf\n",
        "import numpy as np\n",
        "import keras\n",
        "import matplotlib.pyplot as plt"
      ],
      "metadata": {
        "id": "IvvOf2OzsLSc"
      },
      "execution_count": 3,
      "outputs": []
    },
    {
      "cell_type": "code",
      "source": [
        "device_list = tf.test.gpu_device_name()\n",
        "if device_list != '/device:GPU:0':\n",
        "   raise SystemError('GPU device not found')\n",
        "print(\"GPU found at : {}\".format(device_list))\n",
        "\n",
        "!nvidia-smi"
      ],
      "metadata": {
        "colab": {
          "base_uri": "https://localhost:8080/"
        },
        "id": "6sR2ojwasCds",
        "outputId": "e6dcf074-7f6f-4ae6-9e00-8ec6c12d7195"
      },
      "execution_count": 4,
      "outputs": [
        {
          "output_type": "stream",
          "name": "stdout",
          "text": [
            "GPU found at : /device:GPU:0\n",
            "Sun Oct  2 18:06:51 2022       \n",
            "+-----------------------------------------------------------------------------+\n",
            "| NVIDIA-SMI 460.32.03    Driver Version: 460.32.03    CUDA Version: 11.2     |\n",
            "|-------------------------------+----------------------+----------------------+\n",
            "| GPU  Name        Persistence-M| Bus-Id        Disp.A | Volatile Uncorr. ECC |\n",
            "| Fan  Temp  Perf  Pwr:Usage/Cap|         Memory-Usage | GPU-Util  Compute M. |\n",
            "|                               |                      |               MIG M. |\n",
            "|===============================+======================+======================|\n",
            "|   0  Tesla T4            Off  | 00000000:00:04.0 Off |                    0 |\n",
            "| N/A   65C    P0    29W /  70W |    284MiB / 15109MiB |      3%      Default |\n",
            "|                               |                      |                  N/A |\n",
            "+-------------------------------+----------------------+----------------------+\n",
            "                                                                               \n",
            "+-----------------------------------------------------------------------------+\n",
            "| Processes:                                                                  |\n",
            "|  GPU   GI   CI        PID   Type   Process name                  GPU Memory |\n",
            "|        ID   ID                                                   Usage      |\n",
            "|=============================================================================|\n",
            "+-----------------------------------------------------------------------------+\n"
          ]
        }
      ]
    },
    {
      "cell_type": "code",
      "source": [
        "data_path = '/content/drive/MyDrive/animals/animals'\n",
        "name_animals = '/content/drive/MyDrive/animals/name of the animals.txt'"
      ],
      "metadata": {
        "id": "jwE2K67ctSHg"
      },
      "execution_count": 5,
      "outputs": []
    },
    {
      "cell_type": "code",
      "source": [
        "import numpy as np\n",
        "import tensorflow as tf\n",
        "import matplotlib.pyplot as plt\n",
        "import pandas as pd\n",
        "import os \n",
        "import seaborn \n",
        "import keras\n",
        "from tensorflow.keras import layers, Sequential\n",
        "from tensorflow.keras.layers import Conv2D, MaxPool2D, Dropout, Dense, Flatten\n",
        "from tensorflow.keras.preprocessing.image import ImageDataGenerator\n",
        "from sklearn.preprocessing import LabelEncoder\n",
        "import matplotlib.image as mpimg\n",
        "from sklearn.metrics import accuracy_score, precision_score, recall_score, f1_score, classification_report\n",
        "import random\n",
        "import warnings \n",
        "warnings.filterwarnings('ignore')\n"
      ],
      "metadata": {
        "id": "t1smYGehtdit"
      },
      "execution_count": 6,
      "outputs": []
    },
    {
      "cell_type": "code",
      "source": [
        "image_size = (224, 224)\n",
        "batch_size = 32"
      ],
      "metadata": {
        "id": "N-x50TW8tkAZ"
      },
      "execution_count": 7,
      "outputs": []
    },
    {
      "cell_type": "code",
      "source": [
        "#training data\n",
        "from pandas.io.formats.style_render import Subset"
      ],
      "metadata": {
        "id": "_8j8Uwpat3e_"
      },
      "execution_count": 8,
      "outputs": []
    },
    {
      "cell_type": "code",
      "source": [
        "train_data = tf.keras.preprocessing.image_dataset_from_directory(\n",
        "    data_path,\n",
        "    subset = 'training',\n",
        "    validation_split = 0.2,\n",
        "    image_size = image_size,\n",
        "    batch_size = batch_size,\n",
        "    seed = 42\n",
        ")"
      ],
      "metadata": {
        "colab": {
          "base_uri": "https://localhost:8080/"
        },
        "id": "r0_gLuOmuZR6",
        "outputId": "e63cd73a-c8d1-4e21-d20a-82e1cde15a5e"
      },
      "execution_count": 9,
      "outputs": [
        {
          "output_type": "stream",
          "name": "stdout",
          "text": [
            "Found 5400 files belonging to 90 classes.\n",
            "Using 4320 files for training.\n"
          ]
        }
      ]
    },
    {
      "cell_type": "code",
      "source": [
        "#testing data \n",
        "test_data = tf.keras.preprocessing.image_dataset_from_directory(\n",
        "    data_path,\n",
        "    subset = 'validation',\n",
        "    validation_split = 0.2,\n",
        "    image_size = image_size,\n",
        "    batch_size = batch_size,\n",
        "    seed = 42\n",
        ")"
      ],
      "metadata": {
        "colab": {
          "base_uri": "https://localhost:8080/"
        },
        "id": "uKMnYFEvvBT0",
        "outputId": "ef2a45fb-0057-48be-da18-eeb54cbf9d1d"
      },
      "execution_count": 10,
      "outputs": [
        {
          "output_type": "stream",
          "name": "stdout",
          "text": [
            "Found 5400 files belonging to 90 classes.\n",
            "Using 1080 files for validation.\n"
          ]
        }
      ]
    },
    {
      "cell_type": "code",
      "source": [
        "class_names = train_data.class_names\n",
        "class_names"
      ],
      "metadata": {
        "colab": {
          "base_uri": "https://localhost:8080/"
        },
        "id": "QtEdDL_TvN2M",
        "outputId": "8a28f1e5-022a-4551-b64e-5fe77cacd3b5"
      },
      "execution_count": 11,
      "outputs": [
        {
          "output_type": "execute_result",
          "data": {
            "text/plain": [
              "['antelope',\n",
              " 'badger',\n",
              " 'bat',\n",
              " 'bear',\n",
              " 'bee',\n",
              " 'beetle',\n",
              " 'bison',\n",
              " 'boar',\n",
              " 'butterfly',\n",
              " 'cat',\n",
              " 'caterpillar',\n",
              " 'chimpanzee',\n",
              " 'cockroach',\n",
              " 'cow',\n",
              " 'coyote',\n",
              " 'crab',\n",
              " 'crow',\n",
              " 'deer',\n",
              " 'dog',\n",
              " 'dolphin',\n",
              " 'donkey',\n",
              " 'dragonfly',\n",
              " 'duck',\n",
              " 'eagle',\n",
              " 'elephant',\n",
              " 'flamingo',\n",
              " 'fly',\n",
              " 'fox',\n",
              " 'goat',\n",
              " 'goldfish',\n",
              " 'goose',\n",
              " 'gorilla',\n",
              " 'grasshopper',\n",
              " 'hamster',\n",
              " 'hare',\n",
              " 'hedgehog',\n",
              " 'hippopotamus',\n",
              " 'hornbill',\n",
              " 'horse',\n",
              " 'hummingbird',\n",
              " 'hyena',\n",
              " 'jellyfish',\n",
              " 'kangaroo',\n",
              " 'koala',\n",
              " 'ladybugs',\n",
              " 'leopard',\n",
              " 'lion',\n",
              " 'lizard',\n",
              " 'lobster',\n",
              " 'mosquito',\n",
              " 'moth',\n",
              " 'mouse',\n",
              " 'octopus',\n",
              " 'okapi',\n",
              " 'orangutan',\n",
              " 'otter',\n",
              " 'owl',\n",
              " 'ox',\n",
              " 'oyster',\n",
              " 'panda',\n",
              " 'parrot',\n",
              " 'pelecaniformes',\n",
              " 'penguin',\n",
              " 'pig',\n",
              " 'pigeon',\n",
              " 'porcupine',\n",
              " 'possum',\n",
              " 'raccoon',\n",
              " 'rat',\n",
              " 'reindeer',\n",
              " 'rhinoceros',\n",
              " 'sandpiper',\n",
              " 'seahorse',\n",
              " 'seal',\n",
              " 'shark',\n",
              " 'sheep',\n",
              " 'snake',\n",
              " 'sparrow',\n",
              " 'squid',\n",
              " 'squirrel',\n",
              " 'starfish',\n",
              " 'swan',\n",
              " 'tiger',\n",
              " 'turkey',\n",
              " 'turtle',\n",
              " 'whale',\n",
              " 'wolf',\n",
              " 'wombat',\n",
              " 'woodpecker',\n",
              " 'zebra']"
            ]
          },
          "metadata": {},
          "execution_count": 11
        }
      ]
    },
    {
      "cell_type": "code",
      "source": [
        "#encoder les classes names pour les rendre des chiffres\n",
        "label_encoder = LabelEncoder()\n",
        "class_names_label_encoder = label_encoder.fit_transform(class_names)\n",
        "class_names_label_encoder"
      ],
      "metadata": {
        "colab": {
          "base_uri": "https://localhost:8080/"
        },
        "id": "0jq8AN43vx2t",
        "outputId": "0fc9dd15-25b2-4fec-c63b-f036935c2824"
      },
      "execution_count": 12,
      "outputs": [
        {
          "output_type": "execute_result",
          "data": {
            "text/plain": [
              "array([ 0,  1,  2,  3,  4,  5,  6,  7,  8,  9, 10, 11, 12, 13, 14, 15, 16,\n",
              "       17, 18, 19, 20, 21, 22, 23, 24, 25, 26, 27, 28, 29, 30, 31, 32, 33,\n",
              "       34, 35, 36, 37, 38, 39, 40, 41, 42, 43, 44, 45, 46, 47, 48, 49, 50,\n",
              "       51, 52, 53, 54, 55, 56, 57, 58, 59, 60, 61, 62, 63, 64, 65, 66, 67,\n",
              "       68, 69, 70, 71, 72, 73, 74, 75, 76, 77, 78, 79, 80, 81, 82, 83, 84,\n",
              "       85, 86, 87, 88, 89])"
            ]
          },
          "metadata": {},
          "execution_count": 12
        }
      ]
    },
    {
      "cell_type": "code",
      "source": [
        "#montrer une photo \n",
        "image = plt.imread(\"/content/drive/MyDrive/animals/animals/bear/039b2ae790.jpg\")\n",
        "plt.imshow(image)\n",
        "plt.title('bear')\n",
        "plt.axis('off')\n",
        "plt.show()\n"
      ],
      "metadata": {
        "colab": {
          "base_uri": "https://localhost:8080/",
          "height": 264
        },
        "id": "keg-s4Mnv9cE",
        "outputId": "6c165c28-66fb-4b14-dbb2-469cd59e7b58"
      },
      "execution_count": 13,
      "outputs": [
        {
          "output_type": "display_data",
          "data": {
            "text/plain": [
              "<Figure size 432x288 with 1 Axes>"
            ],
            "image/png": "[encoded data removed]"
          },
          "metadata": {
            "needs_background": "light"
          }
        }
      ]
    },
    {
      "cell_type": "code",
      "source": [
        "image.shape"
      ],
      "metadata": {
        "colab": {
          "base_uri": "https://localhost:8080/"
        },
        "id": "_I_AOPGuwMf9",
        "outputId": "08547db0-4d23-4a96-f85d-d19b48f2b507"
      },
      "execution_count": 15,
      "outputs": [
        {
          "output_type": "execute_result",
          "data": {
            "text/plain": [
              "(1600, 1061, 3)"
            ]
          },
          "metadata": {},
          "execution_count": 15
        }
      ]
    },
    {
      "cell_type": "code",
      "source": [
        "#image processing \n",
        "def preprocess_image(image, label, image_shape=224):\n",
        "  img = tf.image.resize(image, [image_shape, image_shape])\n",
        "  img = img/225\n",
        "  return tf.cast(img, tf.float32), label"
      ],
      "metadata": {
        "id": "aizX7--owR5t"
      },
      "execution_count": 14,
      "outputs": []
    },
    {
      "cell_type": "code",
      "source": [
        "#maping the data to let data understandable by machines."
      ],
      "metadata": {
        "id": "KIF_8JWry6g0"
      },
      "execution_count": null,
      "outputs": []
    },
    {
      "cell_type": "code",
      "source": [
        "train_data = train_data.map(map_func = preprocess_image, num_parallel_calls= tf.data.AUTOTUNE)\n",
        "\n",
        "#shuffle the data\n",
        "train_data = train_data.shuffle(buffer_size= 1000).prefetch(buffer_size = tf.data.AUTOTUNE)\n",
        "\n",
        "#map the preprocess_image to valid data\n",
        "test_data = test_data.map(map_func = preprocess_image, num_parallel_calls= tf.data.AUTOTUNE)\n",
        "#shuffle the data\n",
        "test_data = test_data.shuffle(buffer_size= 1000).prefetch(buffer_size = tf.data.AUTOTUNE)\n"
      ],
      "metadata": {
        "id": "XWU3pf5QzFQr"
      },
      "execution_count": 15,
      "outputs": []
    },
    {
      "cell_type": "code",
      "source": [
        "tf.random.set_seed(42)"
      ],
      "metadata": {
        "id": "k-eFjQqZzJQn"
      },
      "execution_count": 16,
      "outputs": []
    },
    {
      "cell_type": "code",
      "source": [
        "model_1 = Sequential(\n",
        "    [\n",
        "        Conv2D(filters= 32, kernel_size = 4, padding = 'same', activation = 'relu', input_shape = (224, 224, 3)),\n",
        "        MaxPool2D(2,2),\n",
        "        Conv2D(filters= 64, kernel_size = 4, padding = 'same', activation = 'relu', input_shape = (224, 224, 3)),\n",
        "        MaxPool2D(2,2),\n",
        "        Conv2D(filters= 64, kernel_size = 4, padding = 'same', activation = 'relu', input_shape = (224, 224, 3)),\n",
        "        MaxPool2D(2,2),\n",
        "        Dropout(0.5), #reduire l'overfitting lors de l'entrainement du model (desactiver temporairement certains neurones dans le reseau + toutes ses connexions, le choix de ces neurones est aleatoire)\n",
        "        Flatten(),\n",
        "        Dense(len(class_names_label_encoder), activation = 'softmax')\n",
        "     \n",
        "    ]\n",
        ")"
      ],
      "metadata": {
        "id": "rRYWrwy1zMYw"
      },
      "execution_count": 17,
      "outputs": []
    },
    {
      "cell_type": "code",
      "source": [
        "#compile\n",
        "model_1.compile(loss = tf.keras.losses.SparseCategoricalCrossentropy(),\n",
        "                optimizer = 'adam',\n",
        "                metrics=['accuracy'])\n",
        "\n",
        "#fitting\n",
        "model_1.fit(train_data, epochs = 10, validation_data = test_data)"
      ],
      "metadata": {
        "colab": {
          "base_uri": "https://localhost:8080/"
        },
        "id": "zYMC_xDSzRt1",
        "outputId": "dcbaaff4-d21d-43d1-8bc9-4132881e1239"
      },
      "execution_count": 18,
      "outputs": [
        {
          "output_type": "stream",
          "name": "stdout",
          "text": [
            "Epoch 1/10\n",
            "135/135 [==============================] - 966s 3s/step - loss: 4.4936 - accuracy: 0.0148 - val_loss: 4.4478 - val_accuracy: 0.0176\n",
            "Epoch 2/10\n",
            "135/135 [==============================] - 31s 99ms/step - loss: 4.1416 - accuracy: 0.0910 - val_loss: 4.2048 - val_accuracy: 0.0815\n",
            "Epoch 3/10\n",
            "135/135 [==============================] - 31s 99ms/step - loss: 2.9834 - accuracy: 0.3211 - val_loss: 4.1461 - val_accuracy: 0.1722\n",
            "Epoch 4/10\n",
            "135/135 [==============================] - 31s 98ms/step - loss: 1.8654 - accuracy: 0.5583 - val_loss: 4.9072 - val_accuracy: 0.2398\n",
            "Epoch 5/10\n",
            "135/135 [==============================] - 31s 99ms/step - loss: 1.1355 - accuracy: 0.7262 - val_loss: 6.2507 - val_accuracy: 0.2574\n",
            "Epoch 6/10\n",
            "135/135 [==============================] - 31s 99ms/step - loss: 0.7635 - accuracy: 0.8116 - val_loss: 8.0380 - val_accuracy: 0.2704\n",
            "Epoch 7/10\n",
            "135/135 [==============================] - 31s 100ms/step - loss: 0.5576 - accuracy: 0.8590 - val_loss: 9.4494 - val_accuracy: 0.2676\n",
            "Epoch 8/10\n",
            "135/135 [==============================] - 31s 100ms/step - loss: 0.4387 - accuracy: 0.8944 - val_loss: 10.5449 - val_accuracy: 0.2815\n",
            "Epoch 9/10\n",
            "135/135 [==============================] - 31s 99ms/step - loss: 0.3392 - accuracy: 0.9181 - val_loss: 12.0671 - val_accuracy: 0.2852\n",
            "Epoch 10/10\n",
            "135/135 [==============================] - 31s 100ms/step - loss: 0.2853 - accuracy: 0.9294 - val_loss: 13.5041 - val_accuracy: 0.2787\n"
          ]
        },
        {
          "output_type": "execute_result",
          "data": {
            "text/plain": [
              "<keras.callbacks.History at 0x7feb74cb3550>"
            ]
          },
          "metadata": {},
          "execution_count": 18
        }
      ]
    },
    {
      "cell_type": "code",
      "source": [
        "model_1.save('my_model.h5')"
      ],
      "metadata": {
        "id": "M4fy85ZE9gfX"
      },
      "execution_count": 19,
      "outputs": []
    },
    {
      "cell_type": "code",
      "source": [
        "#transfer learning \n",
        "# Download Inception V3 model\n",
        "base_model_inception = tf.keras.applications.inception_v3.InceptionV3(include_top=False)\n",
        "\n",
        "# Freeze the layers\n",
        "base_model_inception.trainable=False\n",
        "\n",
        "# Inputs\n",
        "inputs = tf.keras.layers.Input(shape=(224,224,3), name='input_layer')\n",
        "\n",
        "# Scaling the values\n",
        "x = tf.keras.layers.experimental.preprocessing.Rescaling(1/255.)(inputs)\n",
        "\n",
        "# Pass inputs to our base_model\n",
        "x = base_model_inception(inputs,training=False)\n",
        "\n",
        "# GlobalAveragePooling2D\n",
        "x = tf.keras.layers.GlobalAveragePooling2D()(x)\n",
        "\n",
        "# outputs\n",
        "outputs = tf.keras.layers.Dense(len(class_names_label_encoder), activation='softmax')(x)\n",
        "\n",
        "# Build model\n",
        "model_1 = tf.keras.Model(inputs, outputs)\n",
        "\n",
        "# Compile the model\n",
        "model_1.compile(loss=tf.keras.losses.SparseCategoricalCrossentropy(),\n",
        "               optimizer='adam',\n",
        "               metrics=['accuracy'])"
      ],
      "metadata": {
        "id": "uX4vWNYW9jeu"
      },
      "execution_count": 31,
      "outputs": []
    },
    {
      "cell_type": "code",
      "source": [
        "# Fit the model\n",
        "history_1 = model_1.fit(train_data,\n",
        "                       epochs=5,\n",
        "                       validation_data=test_data)"
      ],
      "metadata": {
        "colab": {
          "base_uri": "https://localhost:8080/"
        },
        "id": "ilnI0LD69sbo",
        "outputId": "672da9ab-3242-41da-bf81-4d987b260feb"
      },
      "execution_count": 32,
      "outputs": [
        {
          "output_type": "stream",
          "name": "stdout",
          "text": [
            "Epoch 1/5\n",
            "135/135 [==============================] - 42s 146ms/step - loss: 1.4641 - accuracy: 0.6727 - val_loss: 0.7113 - val_accuracy: 0.7981\n",
            "Epoch 2/5\n",
            "135/135 [==============================] - 35s 123ms/step - loss: 0.3348 - accuracy: 0.9090 - val_loss: 0.5662 - val_accuracy: 0.8343\n",
            "Epoch 3/5\n",
            "135/135 [==============================] - 35s 123ms/step - loss: 0.1698 - accuracy: 0.9613 - val_loss: 0.5324 - val_accuracy: 0.8444\n",
            "Epoch 4/5\n",
            "135/135 [==============================] - 35s 125ms/step - loss: 0.0938 - accuracy: 0.9840 - val_loss: 0.4774 - val_accuracy: 0.8546\n",
            "Epoch 5/5\n",
            "135/135 [==============================] - 35s 124ms/step - loss: 0.0652 - accuracy: 0.9894 - val_loss: 0.4684 - val_accuracy: 0.8648\n"
          ]
        }
      ]
    },
    {
      "cell_type": "code",
      "source": [
        "model_1.save('model.h5')"
      ],
      "metadata": {
        "id": "Lt7IAq3z-dZJ"
      },
      "execution_count": 33,
      "outputs": []
    },
    {
      "cell_type": "code",
      "source": [
        "#let's make some predictions"
      ],
      "metadata": {
        "id": "hCsCD0ZE-hLN"
      },
      "execution_count": 23,
      "outputs": []
    },
    {
      "cell_type": "code",
      "source": [
        "import cv2\n",
        "import numpy as np\n",
        "\n",
        "img = cv2.imread(\"/content/drive/MyDrive/animals/animals/monarch-butterfly-grass_4x3.jpg\")\n",
        "\n",
        "img = cv2.resize(img,(224,224))     # resize image to match model's expected sizing\n",
        "img = img.reshape(1,224,224,3) \n",
        "img = img/225\n",
        "img2 = tf.cast(img, tf.float32),\n",
        "print(np.argmax(model_1.predict(img2)))"
      ],
      "metadata": {
        "colab": {
          "base_uri": "https://localhost:8080/"
        },
        "id": "nNrfzcvr-niA",
        "outputId": "8ed2d50a-9a03-4916-e4ac-89e5f46dcb29"
      },
      "execution_count": 35,
      "outputs": [
        {
          "output_type": "stream",
          "name": "stdout",
          "text": [
            "8\n"
          ]
        }
      ]
    }
  ]
}